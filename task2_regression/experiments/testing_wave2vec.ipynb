{
 "cells": [
  {
   "cell_type": "code",
   "execution_count": 6,
   "metadata": {},
   "outputs": [],
   "source": [
    "import numpy as np\n",
    "from IPython.display import Audio\n",
    "import soundfile as sf\n",
    "import torch\n",
    "from datasets import load_dataset\n",
    "from transformers import Wav2Vec2ForCTC, Wav2Vec2Processor\n",
    "from transformers import Wav2Vec2Model, Wav2Vec2Config, Wav2Vec2Tokenizer, Wav2Vec2FeatureExtractor\n",
    "import torchaudio\n",
    "from transformers import Wav2Vec2Model\n",
    "\n",
    "# change the directory to the root of the parent folder\n",
    "import os\n",
    "os.chdir(\"..\")"
   ]
  },
  {
   "cell_type": "code",
   "execution_count": 11,
   "metadata": {},
   "outputs": [
    {
     "name": "stdout",
     "output_type": "stream",
     "text": [
      "torch.Size([2248390])\n"
     ]
    }
   ],
   "source": [
    "data = np.load('speech_waveform/stimuli/audiobook_1.npz')\n",
    "waveform = data['audio']\n",
    "waveform = waveform[0:int(len(waveform)* 0.05)]\n",
    "\n",
    "# Check and convert the waveform to a PyTorch tensor if it's not already\n",
    "if not isinstance(waveform, torch.Tensor):\n",
    "    waveform = torch.tensor(waveform)\n",
    "\n",
    "print(waveform.shape)"
   ]
  },
  {
   "cell_type": "code",
   "execution_count": 10,
   "metadata": {},
   "outputs": [
    {
     "name": "stdout",
     "output_type": "stream",
     "text": [
      "Ignored unknown kwarg option normalize\n",
      "Ignored unknown kwarg option normalize\n",
      "Ignored unknown kwarg option normalize\n",
      "Ignored unknown kwarg option normalize\n"
     ]
    },
    {
     "name": "stderr",
     "output_type": "stream",
     "text": [
      "Some weights of Wav2Vec2Model were not initialized from the model checkpoint at facebook/wav2vec2-large-960h and are newly initialized: ['wav2vec2.masked_spec_embed', 'wav2vec2.encoder.pos_conv_embed.conv.parametrizations.weight.original1', 'wav2vec2.encoder.pos_conv_embed.conv.parametrizations.weight.original0']\n",
      "You should probably TRAIN this model on a down-stream task to be able to use it for predictions and inference.\n"
     ]
    },
    {
     "name": "stdout",
     "output_type": "stream",
     "text": [
      "torch.Size([1, 233, 1024])\n"
     ]
    }
   ],
   "source": [
    "# Load the pre-trained Wav2Vec 2.0 model\n",
    "processor = Wav2Vec2Processor.from_pretrained(\"facebook/wav2vec2-large-960h\")\n",
    "model = Wav2Vec2Model.from_pretrained(\"facebook/wav2vec2-large-960h\")\n",
    "\n",
    "# Resample waveform if needed\n",
    "if waveform.shape[-1] != 16000:\n",
    "    resampler = torchaudio.transforms.Resample(orig_freq=48000, new_freq=16000)\n",
    "    waveform = resampler(waveform)\n",
    "    \n",
    "# Load your audio file (replace 'path_to_your_audio_file' with your audio file path)\n",
    "audio_input = waveform\n",
    "sample_rate = 16000\n",
    "\n",
    "# Process the audio input\n",
    "input_values = processor(audio_input, sampling_rate=sample_rate, return_tensors=\"pt\").input_values\n",
    "\n",
    "# Get the latent representation\n",
    "with torch.no_grad():\n",
    "    latent_representation = model(input_values).last_hidden_state\n",
    "\n",
    "# Print the shape of the output\n",
    "print(latent_representation.shape)"
   ]
  },
  {
   "cell_type": "code",
   "execution_count": 29,
   "metadata": {},
   "outputs": [
    {
     "name": "stderr",
     "output_type": "stream",
     "text": [
      "Some weights of Wav2Vec2Model were not initialized from the model checkpoint at facebook/wav2vec2-large-xlsr-53 and are newly initialized: ['wav2vec2.encoder.pos_conv_embed.conv.parametrizations.weight.original1', 'wav2vec2.encoder.pos_conv_embed.conv.parametrizations.weight.original0']\n",
      "You should probably TRAIN this model on a down-stream task to be able to use it for predictions and inference.\n"
     ]
    },
    {
     "name": "stdout",
     "output_type": "stream",
     "text": [
      "Wav2Vec2FeatureExtractor {\n",
      "  \"do_normalize\": true,\n",
      "  \"feature_extractor_type\": \"Wav2Vec2FeatureExtractor\",\n",
      "  \"feature_size\": 1,\n",
      "  \"padding_side\": \"right\",\n",
      "  \"padding_value\": 0,\n",
      "  \"return_attention_mask\": true,\n",
      "  \"sampling_rate\": 16000\n",
      "}\n",
      "\n",
      "(749464,)\n",
      "odict_keys(['last_hidden_state', 'extract_features'])\n",
      "torch.Size([1, 2341, 1024])\n",
      "torch.Size([1, 2341, 512])\n"
     ]
    }
   ],
   "source": [
    "# 1. Load the model and the tokenizer\n",
    "model = Wav2Vec2Model.from_pretrained(\"facebook/wav2vec2-large-xlsr-53\")\n",
    "# Load the feature extractor\n",
    "feature_extractor = Wav2Vec2FeatureExtractor.from_pretrained(\"facebook/wav2vec2-large-xlsr-53\")\n",
    "\n",
    "print(feature_extractor)\n",
    "# Resample waveform if needed\n",
    "if waveform.shape[-1] != 16000:\n",
    "    resampler = torchaudio.transforms.Resample(orig_freq=48000, new_freq=16000)\n",
    "    waveform = resampler(waveform)\n",
    "\n",
    "print(waveform.squeeze().numpy().shape)\n",
    "# Process the waveform\n",
    "input_values = feature_extractor(waveform, return_tensors=\"pt\", padding=\"longest\", sampling_rate=16000, do_normalize=True).input_values\n",
    "\n",
    "# Get the latent representation\n",
    "with torch.no_grad():\n",
    "    embeddings = model(input_values)\n",
    "\n",
    "print(embeddings.keys())\n",
    "print(embeddings.last_hidden_state.shape)\n",
    "print(embeddings.extract_features.shape)"
   ]
  }
 ],
 "metadata": {
  "kernelspec": {
   "display_name": "Python 3",
   "language": "python",
   "name": "python3"
  },
  "language_info": {
   "codemirror_mode": {
    "name": "ipython",
    "version": 3
   },
   "file_extension": ".py",
   "mimetype": "text/x-python",
   "name": "python",
   "nbconvert_exporter": "python",
   "pygments_lexer": "ipython3",
   "version": "3.11.5"
  },
  "orig_nbformat": 4
 },
 "nbformat": 4,
 "nbformat_minor": 2
}
