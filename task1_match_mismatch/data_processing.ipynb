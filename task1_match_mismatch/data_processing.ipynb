{
 "cells": [
  {
   "cell_type": "code",
   "execution_count": null,
   "metadata": {},
   "outputs": [
    {
     "name": "stdout",
     "output_type": "stream",
     "text": [
      "NVIDIA GeForce RTX 4070\n"
     ]
    }
   ],
   "source": [
    "import gc\n",
    "import os\n",
    "\n",
    "import math\n",
    "import random\n",
    "import numpy as np\n",
    "\n",
    "import torch\n",
    "\n",
    "torch.manual_seed(42)\n",
    "np.random.seed(42)\n",
    "\n",
    "directory = 'E:/split_data/'"
   ]
  },
  {
   "cell_type": "markdown",
   "metadata": {},
   "source": [
    "# Data processing"
   ]
  },
  {
   "cell_type": "code",
   "execution_count": 2,
   "metadata": {},
   "outputs": [],
   "source": [
    "# # get the largest file\n",
    "# all_files = [os.path.join(directory, f) for f in os.listdir(directory)]\n",
    "# largest_file = None\n",
    "# largest_size = 0\n",
    "\n",
    "# for file in all_files:\n",
    "#     file_size = os.path.getsize(file)\n",
    "#     if file_size > largest_size:\n",
    "#         largest_size = file_size\n",
    "#         largest_file = file\n",
    "        \n",
    "# largest = np.load(largest_file).shape[0]\n",
    "\n",
    "# def extend_array(arr, new_size=largest):\n",
    "#     original_shape = arr.shape\n",
    "#     new_shape = (new_size, original_shape[1])\n",
    "#     extended_array = np.zeros(new_shape)\n",
    "#     extended_array[:original_shape[0], :original_shape[1]] = arr\n",
    "#     return extended_array\n",
    "\n",
    "def segment_array(arr, segment_size, sample_interval):\n",
    "    num_rows, num_cols = arr.shape\n",
    "    segments = []\n",
    "    for start_row in range(0, num_rows, sample_interval):\n",
    "        end_row = start_row + segment_size\n",
    "        if end_row <= num_rows:\n",
    "            segment = arr[start_row:end_row, :]\n",
    "        else:\n",
    "            segment = np.zeros((segment_size, num_cols))\n",
    "            segment[:num_rows - start_row, :] = arr[start_row:num_rows, :]\n",
    "        segments.append(segment)\n",
    "    return segments\n",
    "    "
   ]
  },
  {
   "cell_type": "code",
   "execution_count": 3,
   "metadata": {},
   "outputs": [],
   "source": [
    "train_x = []\n",
    "train_y = []\n",
    "\n",
    "all_files = [os.path.join(directory, f) for f in os.listdir(directory)]\n",
    "\n",
    "sample_interval = 180 # 2.5 seconds, 2.5*64hz\n",
    "window_length = 320 # 5s, 5*64hz\n",
    "\n",
    "for i in range(len(all_files) // 3):\n",
    "    j = i * 3\n",
    "    \n",
    "    eeg_file = np.load(all_files[j])\n",
    "    envelope_file = np.load(all_files[j+1])\n",
    "    mel_file = np.load(all_files[j+2])\n",
    "    \n",
    "    eeg_stacked = np.hstack((eeg_file, envelope_file))\n",
    "    \n",
    "    segmented_eeg = segment_array(eeg_stacked, window_length, sample_interval)\n",
    "    segmented_mel = segment_array(mel_file, window_length, sample_interval)\n",
    "    \n",
    "    assert(len(segmented_eeg) == len(segmented_mel))\n",
    "    \n",
    "    if 'train_' in all_files[j] and 'train_' in all_files[j+1] and 'train_' in all_files[j+2]:\n",
    "        train_x.extend(segmented_eeg)\n",
    "        train_y.extend(segmented_mel)\n",
    "    elif 'val_' in all_files[j] and 'val_' in all_files[j+1] and 'val_' in all_files[j+2]:\n",
    "        train_x.extend(segmented_eeg)\n",
    "        train_y.extend(segmented_mel)\n",
    "    elif 'test_' in all_files[j] and 'test_' in all_files[j+1] and 'test_' in all_files[j+2]:\n",
    "        pass\n",
    "        # test_x.extend(segmented_eeg)\n",
    "        # test_y.extend(segmented_mel)\n",
    "    else:\n",
    "        print('error:')\n",
    "        print(all_files[j])\n",
    "        print(all_files[j+1])\n",
    "        print(all_files[j+2])\n",
    "        break\n",
    "    \n",
    "middle = len(train_x) // 2\n",
    "\n",
    "train_x = train_x[:middle]\n",
    "train_y = train_y[:middle]\n",
    "np.save('train_1_x', np.array(train_x))\n",
    "np.save('train_1_y', np.array(train_y))"
   ]
  },
  {
   "cell_type": "code",
   "execution_count": 21,
   "metadata": {},
   "outputs": [
    {
     "ename": "NameError",
     "evalue": "name 'train_x' is not defined",
     "output_type": "error",
     "traceback": [
      "\u001b[1;31m---------------------------------------------------------------------------\u001b[0m",
      "\u001b[1;31mNameError\u001b[0m                                 Traceback (most recent call last)",
      "Cell \u001b[1;32mIn[21], line 1\u001b[0m\n\u001b[1;32m----> 1\u001b[0m \u001b[38;5;28;01mdel\u001b[39;00m \u001b[43mtrain_x\u001b[49m\n\u001b[0;32m      2\u001b[0m \u001b[38;5;28;01mdel\u001b[39;00m train_y\n\u001b[0;32m      4\u001b[0m test_x \u001b[38;5;241m=\u001b[39m []\n",
      "\u001b[1;31mNameError\u001b[0m: name 'train_x' is not defined"
     ]
    }
   ],
   "source": [
    "del train_x\n",
    "del train_y\n",
    "\n",
    "test_x = []\n",
    "test_y = []\n",
    "\n",
    "all_files = [os.path.join(directory, f) for f in os.listdir(directory)]\n",
    "\n",
    "sample_interval = 180 # 2.5 seconds, 2.5*64hz\n",
    "window_length = 320 # 5s, 5*64hz\n",
    "\n",
    "for i in range(len(all_files) // 3):\n",
    "    j = i * 3\n",
    "    \n",
    "    eeg_file = np.load(all_files[j])\n",
    "    envelope_file = np.load(all_files[j+1])\n",
    "    mel_file = np.load(all_files[j+2])\n",
    "    \n",
    "    eeg_stacked = np.hstack((eeg_file, envelope_file))\n",
    "    \n",
    "    segmented_eeg = segment_array(eeg_stacked, window_length, sample_interval)\n",
    "    segmented_mel = segment_array(mel_file, window_length, sample_interval)\n",
    "    \n",
    "    assert(len(segmented_eeg) == len(segmented_mel))\n",
    "    \n",
    "    if 'train_' in all_files[j] and 'train_' in all_files[j+1] and 'train_' in all_files[j+2]:\n",
    "        pass\n",
    "        # train_x.extend(segmented_eeg)\n",
    "        # train_y.extend(segmented_mel)\n",
    "    elif 'val_' in all_files[j] and 'val_' in all_files[j+1] and 'val_' in all_files[j+2]:\n",
    "        pass\n",
    "        # train_x.extend(segmented_eeg)\n",
    "        # train_y.extend(segmented_mel)\n",
    "    elif 'test_' in all_files[j] and 'test_' in all_files[j+1] and 'test_' in all_files[j+2]:\n",
    "        pass\n",
    "        test_x.extend(segmented_eeg)\n",
    "        test_y.extend(segmented_mel)\n",
    "    else:\n",
    "        print('error:')\n",
    "        print(all_files[j])\n",
    "        print(all_files[j+1])\n",
    "        print(all_files[j+2])\n",
    "        break\n",
    "    \n",
    "middle = len(test_x) // 2\n",
    "\n",
    "test_x = test_x[:middle]\n",
    "test_y = test_y[:middle]\n",
    "np.save('test_1_x', np.array(test_x))\n",
    "np.save('test_1_y', np.array(test_y))"
   ]
  }
 ],
 "metadata": {
  "kernelspec": {
   "display_name": "base",
   "language": "python",
   "name": "python3"
  },
  "language_info": {
   "codemirror_mode": {
    "name": "ipython",
    "version": 3
   },
   "file_extension": ".py",
   "mimetype": "text/x-python",
   "name": "python",
   "nbconvert_exporter": "python",
   "pygments_lexer": "ipython3",
   "version": "3.11.4"
  }
 },
 "nbformat": 4,
 "nbformat_minor": 2
}
